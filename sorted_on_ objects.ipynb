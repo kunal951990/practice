{
 "cells": [
  {
   "cell_type": "code",
   "execution_count": 1,
   "metadata": {},
   "outputs": [
    {
     "name": "stdout",
     "output_type": "stream",
     "text": [
      "[-6, -4, -2, 1, 4, 7]\n"
     ]
    }
   ],
   "source": [
    "my_list = [-6, -4, -2, 1, 4, 7]\n",
    "s_li = sorted(my_list)\n",
    "print(s_li)"
   ]
  },
  {
   "cell_type": "code",
   "execution_count": 2,
   "metadata": {},
   "outputs": [
    {
     "name": "stdout",
     "output_type": "stream",
     "text": [
      "[1, -2, -4, 4, -6, 7]\n"
     ]
    }
   ],
   "source": [
    "s_li = sorted(my_list, key=abs)\n",
    "print(s_li)"
   ]
  },
  {
   "cell_type": "code",
   "execution_count": 8,
   "metadata": {},
   "outputs": [],
   "source": [
    "class Employee(object):\n",
    "    def __init__(self, name, age, salary):\n",
    "        self.name = name\n",
    "        self.age = age\n",
    "        self.salary = salary\n",
    "        \n",
    "    def __repr__(self):\n",
    "        return '({},{},${})'.format(self.name, self.age, self.salary)\n",
    "    \n",
    "e1 = Employee('Carl', 37, 70000)\n",
    "e2 = Employee('Ravi', 24, 45000)\n",
    "e3 = Employee('Sonu', 25, 30000)\n",
    "\n",
    "employees = [e1, e2, e3]"
   ]
  },
  {
   "cell_type": "code",
   "execution_count": 9,
   "metadata": {},
   "outputs": [
    {
     "name": "stdout",
     "output_type": "stream",
     "text": [
      "[(Carl,37,$70000), (Ravi,24,$45000), (Sonu,25,$30000)]\n"
     ]
    }
   ],
   "source": [
    "print (employees)"
   ]
  },
  {
   "cell_type": "code",
   "execution_count": 10,
   "metadata": {},
   "outputs": [
    {
     "ename": "TypeError",
     "evalue": "'<' not supported between instances of 'Employee' and 'Employee'",
     "output_type": "error",
     "traceback": [
      "\u001b[1;31m---------------------------------------------------------------------------\u001b[0m",
      "\u001b[1;31mTypeError\u001b[0m                                 Traceback (most recent call last)",
      "\u001b[1;32m<ipython-input-10-fe9169ebbc55>\u001b[0m in \u001b[0;36m<module>\u001b[1;34m()\u001b[0m\n\u001b[1;32m----> 1\u001b[1;33m \u001b[0msorted\u001b[0m\u001b[1;33m(\u001b[0m\u001b[0memployees\u001b[0m\u001b[1;33m)\u001b[0m\u001b[1;33m\u001b[0m\u001b[0m\n\u001b[0m",
      "\u001b[1;31mTypeError\u001b[0m: '<' not supported between instances of 'Employee' and 'Employee'"
     ]
    }
   ],
   "source": [
    "sorted(employees)"
   ]
  },
  {
   "cell_type": "code",
   "execution_count": 12,
   "metadata": {},
   "outputs": [
    {
     "name": "stdout",
     "output_type": "stream",
     "text": [
      "[(Ravi,24,$45000), (Sonu,25,$30000), (Carl,37,$70000)]\n"
     ]
    }
   ],
   "source": [
    "class Employee(object):\n",
    "    def __init__(self, name, age, salary):\n",
    "        self.name = name\n",
    "        self.age = age\n",
    "        self.salary = salary\n",
    "        \n",
    "    def __repr__(self):\n",
    "        return '({},{},${})'.format(self.name, self.age, self.salary)\n",
    "    \n",
    "e1 = Employee('Carl', 37, 70000)\n",
    "e2 = Employee('Ravi', 24, 45000)\n",
    "e3 = Employee('Sonu', 25, 30000)\n",
    "\n",
    "employees = [e1, e2, e3]\n",
    "\n",
    "def e_sort(emp):\n",
    "    return emp.age # name, age, salary\n",
    "\n",
    "s_list = sorted(employees, key=e_sort)\n",
    "print(s_list)"
   ]
  },
  {
   "cell_type": "code",
   "execution_count": 14,
   "metadata": {},
   "outputs": [
    {
     "name": "stdout",
     "output_type": "stream",
     "text": [
      "[(Ravi,24,$45000), (Sonu,25,$30000), (Carl,37,$70000)]\n"
     ]
    }
   ],
   "source": [
    "class Employee(object):\n",
    "    def __init__(self, name, age, salary):\n",
    "        self.name = name\n",
    "        self.age = age\n",
    "        self.salary = salary\n",
    "        \n",
    "    def __repr__(self):\n",
    "        return '({},{},${})'.format(self.name, self.age, self.salary)\n",
    "    \n",
    "e1 = Employee('Carl', 37, 70000)\n",
    "e2 = Employee('Ravi', 24, 45000)\n",
    "e3 = Employee('Sonu', 25, 30000)\n",
    "\n",
    "employees = [e1, e2, e3]\n",
    "\n",
    "s_list = sorted(employees, key=lambda e: e.age)\n",
    "print(s_list)"
   ]
  },
  {
   "cell_type": "code",
   "execution_count": null,
   "metadata": {},
   "outputs": [],
   "source": []
  }
 ],
 "metadata": {
  "kernelspec": {
   "display_name": "Python 3",
   "language": "python",
   "name": "python3"
  },
  "language_info": {
   "codemirror_mode": {
    "name": "ipython",
    "version": 3
   },
   "file_extension": ".py",
   "mimetype": "text/x-python",
   "name": "python",
   "nbconvert_exporter": "python",
   "pygments_lexer": "ipython3",
   "version": "3.6.5"
  }
 },
 "nbformat": 4,
 "nbformat_minor": 2
}
