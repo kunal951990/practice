{
 "cells": [
  {
   "cell_type": "code",
   "execution_count": 1,
   "metadata": {},
   "outputs": [],
   "source": [
    "from threading import *\n",
    "import time"
   ]
  },
  {
   "cell_type": "code",
   "execution_count": 13,
   "metadata": {},
   "outputs": [
    {
     "name": "stdout",
     "output_type": "stream",
     "text": [
      "Child Thread :Thread-21\n",
      "Child Thread :Thread-22\n",
      "Child Thread :Thread-21\n",
      "Child Thread :Thread-22\n",
      "Child Thread :Thread-21\n",
      "Child Thread :Thread-22\n",
      "Child Thread :Thread-21\n",
      "Child Thread :Thread-22\n",
      "Child Thread :Thread-21\n",
      "Child Thread :Thread-22\n",
      "Child Thread :Thread-21\n",
      "Child Thread :Thread-22\n",
      "Child Thread :Thread-21\n",
      "Child Thread :Thread-22\n",
      "Child Thread :Thread-21\n",
      "Child Thread :Thread-22\n",
      "Child Thread :Thread-21\n",
      "Child Thread :Thread-22\n",
      "Child Thread :Thread-21\n",
      "Child Thread :Thread-22\n",
      "Main Thread :MainThread\n",
      "Main Thread :MainThread\n",
      "Main Thread :MainThread\n",
      "Main Thread :MainThread\n",
      "Main Thread :MainThread\n",
      "Main Thread :MainThread\n",
      "Main Thread :MainThread\n",
      "Main Thread :MainThread\n",
      "Main Thread :MainThread\n",
      "Main Thread :MainThread\n"
     ]
    }
   ],
   "source": [
    "class MyThread(Thread):\n",
    "    def run(self):\n",
    "        for i in range(10):\n",
    "            time.sleep(1)\n",
    "            print(\"Child Thread :{}\".format(current_thread().getName()))\n",
    "            \n",
    "t1 = MyThread()\n",
    "\n",
    "t2 = Thread(target=t1.run)\n",
    "t1.start()\n",
    "t2.start()\n",
    "\n",
    "t1.join()\n",
    "t2.join()\n",
    "\n",
    "for i in range(10):\n",
    "    time.sleep(1)\n",
    "    print(\"Main Thread :{}\".format(current_thread().getName()))"
   ]
  },
  {
   "cell_type": "code",
   "execution_count": null,
   "metadata": {},
   "outputs": [],
   "source": []
  }
 ],
 "metadata": {
  "kernelspec": {
   "display_name": "Python 3",
   "language": "python",
   "name": "python3"
  },
  "language_info": {
   "codemirror_mode": {
    "name": "ipython",
    "version": 3
   },
   "file_extension": ".py",
   "mimetype": "text/x-python",
   "name": "python",
   "nbconvert_exporter": "python",
   "pygments_lexer": "ipython3",
   "version": "3.6.5"
  }
 },
 "nbformat": 4,
 "nbformat_minor": 2
}
