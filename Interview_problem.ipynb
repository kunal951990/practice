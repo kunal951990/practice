{
 "cells": [
  {
   "cell_type": "code",
   "execution_count": 1,
   "metadata": {},
   "outputs": [
    {
     "ename": "SyntaxError",
     "evalue": "invalid syntax (<ipython-input-1-f6e313587581>, line 12)",
     "output_type": "error",
     "traceback": [
      "\u001b[1;36m  File \u001b[1;32m\"<ipython-input-1-f6e313587581>\"\u001b[1;36m, line \u001b[1;32m12\u001b[0m\n\u001b[1;33m    display()\u001b[0m\n\u001b[1;37m          ^\u001b[0m\n\u001b[1;31mSyntaxError\u001b[0m\u001b[1;31m:\u001b[0m invalid syntax\n"
     ]
    }
   ],
   "source": [
    "def decorator_func(orignal):\n",
    "\tdef inner_func():\n",
    "\t\tprint(\"This is Inner function execution\")\n",
    "\t\treturn orignal()\n",
    "\treturn inner_func\n",
    "\n",
    "\n"
   ]
  },
  {
   "cell_type": "code",
   "execution_count": null,
   "metadata": {},
   "outputs": [],
   "source": [
    "def display():\n",
    "\tprint(\"My name is Kunal\")\n",
    "\n",
    "@decorator_func\n",
    "display()"
   ]
  },
  {
   "cell_type": "code",
   "execution_count": 7,
   "metadata": {},
   "outputs": [],
   "source": [
    "import os\n",
    "import re"
   ]
  },
  {
   "cell_type": "code",
   "execution_count": 4,
   "metadata": {},
   "outputs": [
    {
     "data": {
      "text/plain": [
       "['.anaconda',\n",
       " '.AndroidStudio3.0',\n",
       " '.bash_history',\n",
       " '.conda',\n",
       " '.condarc',\n",
       " '.config',\n",
       " '.defaults-0.1.0.ini',\n",
       " '.docker',\n",
       " '.eclipse',\n",
       " '.emulator_console_auth_token',\n",
       " '.gradle',\n",
       " '.idlerc',\n",
       " '.ipynb_checkpoints',\n",
       " '.ipython',\n",
       " '.jupyter',\n",
       " '.keras',\n",
       " '.kube',\n",
       " '.m2',\n",
       " '.matplotlib',\n",
       " '.minttyrc',\n",
       " '.octave_hist',\n",
       " '.oracle_jre_usage',\n",
       " '.p2',\n",
       " '.python_history',\n",
       " '.spyder-py3',\n",
       " '.tooling',\n",
       " '.VirtualBox',\n",
       " '.vscode',\n",
       " '3D Objects',\n",
       " 'Anaconda3',\n",
       " 'AndroidStudioProjects',\n",
       " 'AppData',\n",
       " 'Application Data',\n",
       " 'Comprehension.ipynb',\n",
       " 'Contacts',\n",
       " 'Cookies',\n",
       " 'DataFrame.ipynb',\n",
       " 'Desktop',\n",
       " 'Dictionary.ipynb',\n",
       " 'Documents',\n",
       " 'Downloads',\n",
       " 'eclipse',\n",
       " 'eclipse-workspace',\n",
       " 'Favorites',\n",
       " 'Feature_Engineering.ipynb',\n",
       " 'first_jupyter.ipynb',\n",
       " 'function_ex.ipynb',\n",
       " 'input.ipynb',\n",
       " 'IntelGraphicsProfiles',\n",
       " 'java',\n",
       " 'lightfm_data',\n",
       " 'Links',\n",
       " 'list_tuple_set.ipynb',\n",
       " 'Local Settings',\n",
       " 'Mall_Customers.csv',\n",
       " 'Matplotlib.ipynb',\n",
       " 'Matplotlib[Bar].ipynb',\n",
       " 'Matplotlib[Histogram].ipynb',\n",
       " 'Matplotlib[PIE CHART].ipynb',\n",
       " 'Matplotlib[Scatter Plot].ipynb',\n",
       " 'MicrosoftEdgeBackups',\n",
       " 'Music',\n",
       " 'My Documents',\n",
       " 'MySQL.sql',\n",
       " 'MySQL~1.sql',\n",
       " 'NetHood',\n",
       " 'NTUSER.DAT',\n",
       " 'ntuser.dat.LOG1',\n",
       " 'ntuser.dat.LOG2',\n",
       " 'NTUSER.DAT{fd9a35db-49fe-11e9-aa2c-248a07783950}.TM.blf',\n",
       " 'NTUSER.DAT{fd9a35db-49fe-11e9-aa2c-248a07783950}.TMContainer00000000000000000001.regtrans-ms',\n",
       " 'NTUSER.DAT{fd9a35db-49fe-11e9-aa2c-248a07783950}.TMContainer00000000000000000002.regtrans-ms',\n",
       " 'ntuser.ini',\n",
       " 'Num_Float.ipynb',\n",
       " 'OneDrive',\n",
       " 'Oracle',\n",
       " 'os_module.ipynb',\n",
       " 'Outlier_detection_Z_score.ipynb',\n",
       " 'Pandas.ipynb',\n",
       " 'Pictures',\n",
       " 'Plot2.png',\n",
       " 'PrintHood',\n",
       " 'Python_Amazon_Automate',\n",
       " 'Python_POM',\n",
       " 'Recent',\n",
       " 'Removal_dublicate_from_list.ipynb',\n",
       " 'remove_dublicate_word_an_printing_second_largest_num.ipynb',\n",
       " 'Saved Games',\n",
       " 'Searches',\n",
       " 'SendTo',\n",
       " 'sorted_on_ objects.ipynb',\n",
       " 'spfm',\n",
       " 'Start Menu',\n",
       " 'String.ipynb',\n",
       " 'String_formating.ipynb',\n",
       " 'Templates',\n",
       " 'Test.sql',\n",
       " 'Tracing',\n",
       " 'Untitled.ipynb',\n",
       " 'Untitled1.ipynb',\n",
       " 'Untitled10.ipynb',\n",
       " 'Untitled11.ipynb',\n",
       " 'Untitled13.ipynb',\n",
       " 'Untitled2.ipynb',\n",
       " 'Untitled3.ipynb',\n",
       " 'Untitled4.ipynb',\n",
       " 'Untitled5.ipynb',\n",
       " 'Untitled6.ipynb',\n",
       " 'Untitled7.ipynb',\n",
       " 'Untitled8.ipynb',\n",
       " 'Untitled9.ipynb',\n",
       " 'Videos',\n",
       " 'workspace']"
      ]
     },
     "execution_count": 4,
     "metadata": {},
     "output_type": "execute_result"
    }
   ],
   "source": [
    "os.listdir()"
   ]
  },
  {
   "cell_type": "code",
   "execution_count": 12,
   "metadata": {},
   "outputs": [],
   "source": [
    "files = os.listdir()"
   ]
  },
  {
   "cell_type": "code",
   "execution_count": 14,
   "metadata": {},
   "outputs": [],
   "source": [
    "hh = str(files)"
   ]
  },
  {
   "cell_type": "code",
   "execution_count": 15,
   "metadata": {},
   "outputs": [
    {
     "data": {
      "text/plain": [
       "\"['.anaconda', '.AndroidStudio3.0', '.bash_history', '.conda', '.condarc', '.config', '.defaults-0.1.0.ini', '.docker', '.eclipse', '.emulator_console_auth_token', '.gradle', '.idlerc', '.ipynb_checkpoints', '.ipython', '.jupyter', '.keras', '.kube', '.m2', '.matplotlib', '.minttyrc', '.octave_hist', '.oracle_jre_usage', '.p2', '.python_history', '.spyder-py3', '.tooling', '.VirtualBox', '.vscode', '3D Objects', 'Anaconda3', 'AndroidStudioProjects', 'AppData', 'Application Data', 'Comprehension.ipynb', 'Contacts', 'Cookies', 'DataFrame.ipynb', 'Desktop', 'Dictionary.ipynb', 'Documents', 'Downloads', 'eclipse', 'eclipse-workspace', 'Favorites', 'Feature_Engineering.ipynb', 'first_jupyter.ipynb', 'function_ex.ipynb', 'input.ipynb', 'IntelGraphicsProfiles', 'java', 'lightfm_data', 'Links', 'list_tuple_set.ipynb', 'Local Settings', 'Mall_Customers.csv', 'Matplotlib.ipynb', 'Matplotlib[Bar].ipynb', 'Matplotlib[Histogram].ipynb', 'Matplotlib[PIE CHART].ipynb', 'Matplotlib[Scatter Plot].ipynb', 'MicrosoftEdgeBackups', 'Music', 'My Documents', 'MySQL.sql', 'MySQL~1.sql', 'NetHood', 'NTUSER.DAT', 'ntuser.dat.LOG1', 'ntuser.dat.LOG2', 'NTUSER.DAT{fd9a35db-49fe-11e9-aa2c-248a07783950}.TM.blf', 'NTUSER.DAT{fd9a35db-49fe-11e9-aa2c-248a07783950}.TMContainer00000000000000000001.regtrans-ms', 'NTUSER.DAT{fd9a35db-49fe-11e9-aa2c-248a07783950}.TMContainer00000000000000000002.regtrans-ms', 'ntuser.ini', 'Num_Float.ipynb', 'OneDrive', 'Oracle', 'os_module.ipynb', 'Outlier_detection_Z_score.ipynb', 'Pandas.ipynb', 'Pictures', 'Plot2.png', 'PrintHood', 'Python_Amazon_Automate', 'Python_POM', 'Recent', 'Removal_dublicate_from_list.ipynb', 'remove_dublicate_word_an_printing_second_largest_num.ipynb', 'Saved Games', 'Searches', 'SendTo', 'sorted_on_ objects.ipynb', 'spfm', 'Start Menu', 'String.ipynb', 'String_formating.ipynb', 'Templates', 'Test.sql', 'Tracing', 'Untitled.ipynb', 'Untitled1.ipynb', 'Untitled10.ipynb', 'Untitled11.ipynb', 'Untitled13.ipynb', 'Untitled2.ipynb', 'Untitled3.ipynb', 'Untitled4.ipynb', 'Untitled5.ipynb', 'Untitled6.ipynb', 'Untitled7.ipynb', 'Untitled8.ipynb', 'Untitled9.ipynb', 'Videos', 'workspace']\""
      ]
     },
     "execution_count": 15,
     "metadata": {},
     "output_type": "execute_result"
    }
   ],
   "source": [
    "hh"
   ]
  },
  {
   "cell_type": "code",
   "execution_count": 29,
   "metadata": {},
   "outputs": [],
   "source": [
    "pattern = re.compile(r'[a-zA-Z]+\\.+[ipynb]+')\n",
    "match = pattern.findall(hh)"
   ]
  },
  {
   "cell_type": "code",
   "execution_count": 30,
   "metadata": {},
   "outputs": [
    {
     "name": "stdout",
     "output_type": "stream",
     "text": [
      "Comprehension.ipynb\n",
      "DataFrame.ipynb\n",
      "Dictionary.ipynb\n",
      "Engineering.ipynb\n",
      "jupyter.ipynb\n",
      "ex.ipynb\n",
      "input.ipynb\n",
      "set.ipynb\n",
      "Matplotlib.ipynb\n",
      "TM.b\n",
      "ntuser.ini\n",
      "Float.ipynb\n",
      "module.ipynb\n",
      "score.ipynb\n",
      "Pandas.ipynb\n",
      "list.ipynb\n",
      "num.ipynb\n",
      "objects.ipynb\n",
      "String.ipynb\n",
      "formating.ipynb\n",
      "Untitled.ipynb\n"
     ]
    }
   ],
   "source": [
    "for m in match:\n",
    "    print(m)"
   ]
  }
 ],
 "metadata": {
  "kernelspec": {
   "display_name": "Python 3",
   "language": "python",
   "name": "python3"
  },
  "language_info": {
   "codemirror_mode": {
    "name": "ipython",
    "version": 3
   },
   "file_extension": ".py",
   "mimetype": "text/x-python",
   "name": "python",
   "nbconvert_exporter": "python",
   "pygments_lexer": "ipython3",
   "version": "3.6.5"
  }
 },
 "nbformat": 4,
 "nbformat_minor": 2
}
