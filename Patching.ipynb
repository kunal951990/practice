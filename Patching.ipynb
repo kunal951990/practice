{
 "cells": [
  {
   "cell_type": "code",
   "execution_count": 73,
   "metadata": {},
   "outputs": [],
   "source": [
    "class A: \n",
    "     def func(self): \n",
    "          print (\"func() is being called\")"
   ]
  },
  {
   "cell_type": "code",
   "execution_count": 74,
   "metadata": {},
   "outputs": [
    {
     "name": "stdout",
     "output_type": "stream",
     "text": [
      "monkey_f() is being called\n"
     ]
    }
   ],
   "source": [
    "def monkey_f(self): \n",
    "     print (\"monkey_f() is being called\")\n",
    "   \n",
    "# replacing address of \"func\" with \"monkey_f\" \n",
    "A.func = monkey_f \n",
    "obj = A() \n",
    "  \n",
    "# calling function \"func\" whose address got replaced \n",
    "# with function \"monkey_f()\" \n",
    "obj.func()"
   ]
  }
 ],
 "metadata": {
  "kernelspec": {
   "display_name": "Python 3",
   "language": "python",
   "name": "python3"
  },
  "language_info": {
   "codemirror_mode": {
    "name": "ipython",
    "version": 3
   },
   "file_extension": ".py",
   "mimetype": "text/x-python",
   "name": "python",
   "nbconvert_exporter": "python",
   "pygments_lexer": "ipython3",
   "version": "3.6.5"
  }
 },
 "nbformat": 4,
 "nbformat_minor": 2
}
